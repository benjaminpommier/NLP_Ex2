{
 "cells": [
  {
   "cell_type": "markdown",
   "metadata": {},
   "source": [
    "# ATSA Model"
   ]
  },
  {
   "cell_type": "code",
   "execution_count": 1,
   "metadata": {},
   "outputs": [],
   "source": [
    "import pandas as pd\n",
    "import numpy as np\n",
    "import matplotlib.pyplot as plt\n",
    "\n",
    "import torch\n",
    "import torch.nn as nn\n",
    "import torch.nn.functional as F\n",
    "from torch.utils.data import TensorDataset, DataLoader\n",
    "\n",
    "from tensorflow.keras.preprocessing.text import one_hot\n",
    "from tensorflow.keras.preprocessing.sequence import pad_sequences\n",
    "\n",
    "from cnn_gcat import CNN_Gate_Aspect_Text\n",
    "\n",
    "from time import time"
   ]
  },
  {
   "cell_type": "markdown",
   "metadata": {},
   "source": [
    "## Loading data"
   ]
  },
  {
   "cell_type": "code",
   "execution_count": 2,
   "metadata": {},
   "outputs": [
    {
     "data": {
      "text/html": [
       "<div>\n",
       "<style scoped>\n",
       "    .dataframe tbody tr th:only-of-type {\n",
       "        vertical-align: middle;\n",
       "    }\n",
       "\n",
       "    .dataframe tbody tr th {\n",
       "        vertical-align: top;\n",
       "    }\n",
       "\n",
       "    .dataframe thead th {\n",
       "        text-align: right;\n",
       "    }\n",
       "</style>\n",
       "<table border=\"1\" class=\"dataframe\">\n",
       "  <thead>\n",
       "    <tr style=\"text-align: right;\">\n",
       "      <th></th>\n",
       "      <th>polarity</th>\n",
       "      <th>aspect_category</th>\n",
       "      <th>target_term</th>\n",
       "      <th>start:end</th>\n",
       "      <th>sentence</th>\n",
       "    </tr>\n",
       "  </thead>\n",
       "  <tbody>\n",
       "    <tr>\n",
       "      <th>0</th>\n",
       "      <td>positive</td>\n",
       "      <td>AMBIENCE#GENERAL</td>\n",
       "      <td>seating</td>\n",
       "      <td>18:25</td>\n",
       "      <td>short and sweet – seating is great:it's romant...</td>\n",
       "    </tr>\n",
       "    <tr>\n",
       "      <th>1</th>\n",
       "      <td>positive</td>\n",
       "      <td>AMBIENCE#GENERAL</td>\n",
       "      <td>trattoria</td>\n",
       "      <td>25:34</td>\n",
       "      <td>This quaint and romantic trattoria is at the t...</td>\n",
       "    </tr>\n",
       "    <tr>\n",
       "      <th>2</th>\n",
       "      <td>positive</td>\n",
       "      <td>FOOD#QUALITY</td>\n",
       "      <td>food</td>\n",
       "      <td>98:102</td>\n",
       "      <td>The have over 100 different beers to offer thi...</td>\n",
       "    </tr>\n",
       "    <tr>\n",
       "      <th>3</th>\n",
       "      <td>negative</td>\n",
       "      <td>SERVICE#GENERAL</td>\n",
       "      <td>STAFF</td>\n",
       "      <td>5:10</td>\n",
       "      <td>THIS STAFF SHOULD BE FIRED.</td>\n",
       "    </tr>\n",
       "    <tr>\n",
       "      <th>4</th>\n",
       "      <td>positive</td>\n",
       "      <td>FOOD#STYLE_OPTIONS</td>\n",
       "      <td>menu</td>\n",
       "      <td>4:8</td>\n",
       "      <td>The menu looked great, and the waiter was very...</td>\n",
       "    </tr>\n",
       "  </tbody>\n",
       "</table>\n",
       "</div>"
      ],
      "text/plain": [
       "   polarity     aspect_category target_term start:end  \\\n",
       "0  positive    AMBIENCE#GENERAL     seating     18:25   \n",
       "1  positive    AMBIENCE#GENERAL   trattoria     25:34   \n",
       "2  positive        FOOD#QUALITY        food    98:102   \n",
       "3  negative     SERVICE#GENERAL       STAFF      5:10   \n",
       "4  positive  FOOD#STYLE_OPTIONS        menu       4:8   \n",
       "\n",
       "                                            sentence  \n",
       "0  short and sweet – seating is great:it's romant...  \n",
       "1  This quaint and romantic trattoria is at the t...  \n",
       "2  The have over 100 different beers to offer thi...  \n",
       "3                        THIS STAFF SHOULD BE FIRED.  \n",
       "4  The menu looked great, and the waiter was very...  "
      ]
     },
     "execution_count": 2,
     "metadata": {},
     "output_type": "execute_result"
    }
   ],
   "source": [
    "path_data = \"./data/\"\n",
    "path_src = \"./src/\"\n",
    "\n",
    "# train set\n",
    "df_train = pd.read_csv(path_data + 'traindata.csv', sep = '\\t', header = None)\n",
    "df_train.columns = ['polarity', 'aspect_category', 'target_term', 'start:end', 'sentence']\n",
    "\n",
    "#dev set\n",
    "df_dev = pd.read_csv(path_data + 'devdata.csv', sep = '\\t', header = None)\n",
    "df_dev.columns = ['polarity', 'aspect_category', 'target_term', 'start:end', 'sentence']\n",
    "\n",
    "df_train.head(5)"
   ]
  },
  {
   "cell_type": "markdown",
   "metadata": {},
   "source": [
    "## Création de y_train et y_dev"
   ]
  },
  {
   "cell_type": "code",
   "execution_count": 3,
   "metadata": {},
   "outputs": [
    {
     "data": {
      "text/plain": [
       "torch.Size([1503])"
      ]
     },
     "execution_count": 3,
     "metadata": {},
     "output_type": "execute_result"
    }
   ],
   "source": [
    "y_train = torch.Tensor(df_train['polarity'].map({'positive':2, 'neutral':1, 'negative':0}).values)\n",
    "y_dev = torch.Tensor(df_dev['polarity'].map({'positive':2, 'neutral':1, 'negative':0}).values)\n",
    "\n",
    "y_train.shape"
   ]
  },
  {
   "cell_type": "markdown",
   "metadata": {},
   "source": [
    "## Création de X_train et X_dev"
   ]
  },
  {
   "cell_type": "code",
   "execution_count": 4,
   "metadata": {},
   "outputs": [
    {
     "data": {
      "text/plain": [
       "torch.Size([1879, 59])"
      ]
     },
     "execution_count": 4,
     "metadata": {},
     "output_type": "execute_result"
    }
   ],
   "source": [
    "vocab_size = 20000\n",
    "\n",
    "sentences_train = df_train['sentence']\n",
    "sentences_dev = df_dev['sentence']\n",
    "sentences = pd.concat([sentences_train, sentences_dev])\n",
    "\n",
    "sentences = list(sentences.apply(lambda sentence: one_hot(sentence, vocab_size, lower=False)).values)\n",
    "X1 = torch.LongTensor(pad_sequences(sentences))\n",
    "X1.shape"
   ]
  },
  {
   "cell_type": "code",
   "execution_count": 5,
   "metadata": {},
   "outputs": [
    {
     "data": {
      "text/plain": [
       "torch.Size([1879, 15])"
      ]
     },
     "execution_count": 5,
     "metadata": {},
     "output_type": "execute_result"
    }
   ],
   "source": [
    "vocab_size_target = 2000\n",
    "\n",
    "target_train = df_train['target_term']\n",
    "target_dev = df_dev['target_term']\n",
    "targets = pd.concat([target_train, target_dev])\n",
    "\n",
    "targets = list(targets.apply(lambda sentence: one_hot(sentence, vocab_size_target, lower=False)).values)\n",
    "X2 = torch.LongTensor(pad_sequences(targets))\n",
    "X2.shape"
   ]
  },
  {
   "cell_type": "code",
   "execution_count": 6,
   "metadata": {},
   "outputs": [
    {
     "name": "stdout",
     "output_type": "stream",
     "text": [
      "torch.Size([1503, 74])\n",
      "torch.Size([376, 74])\n"
     ]
    }
   ],
   "source": [
    "l1 = 59\n",
    "l2 = 15\n",
    "train_size = 1503\n",
    "\n",
    "X = torch.cat([X1, X2], 1)\n",
    "\n",
    "X_train = X[:train_size, :]\n",
    "X_dev = X[train_size:, :]\n",
    "\n",
    "print(X_train.shape)\n",
    "print(X_dev.shape)"
   ]
  },
  {
   "cell_type": "markdown",
   "metadata": {},
   "source": [
    "## Creation of datasets"
   ]
  },
  {
   "cell_type": "code",
   "execution_count": 7,
   "metadata": {},
   "outputs": [],
   "source": [
    "dataset_train = TensorDataset(X_train, y_train)\n",
    "dataset_dev = TensorDataset(X_dev, y_dev)"
   ]
  },
  {
   "cell_type": "markdown",
   "metadata": {},
   "source": [
    "## Model"
   ]
  },
  {
   "cell_type": "code",
   "execution_count": 8,
   "metadata": {},
   "outputs": [],
   "source": [
    "class CNN_Gate_Aspect_Text(nn.Module):\n",
    "    def __init__(self, Co=100, L=300, Ks=[3,4,5], C=3, embed_num = 20000, embed_dim = 300, aspect_embed_num = 2000, aspect_embed_dim = 300):\n",
    "        super(CNN_Gate_Aspect_Text, self).__init__()\n",
    "        #Initialize the embedding, with weights if pre-trained embedding provided\n",
    "        self.embed = nn.Embedding(embed_num, embed_dim) \n",
    "        #self.embed.weight = nn.Parameter(embedding, requires_grad=True) #What is exactly embedding ?\n",
    "        \n",
    "        #Initialise the embedding for the aspect, with weights if pretrained embedding provided\n",
    "        self.aspect_embed = nn.Embedding(aspect_embed_num, aspect_embed_dim)\n",
    "        #self.aspect_embed.weight = nn.Parameter(aspect_embedding, requires_grad=True)\n",
    "\n",
    "        self.convs1 = nn.ModuleList([nn.Conv1d(embed_dim, Co, K) for K in Ks])\n",
    "        self.convs2 = nn.ModuleList([nn.Conv1d(embed_dim, Co, K) for K in Ks])\n",
    "        self.convs3 = nn.ModuleList([nn.Conv1d(embed_dim, L, 3, padding=1)])\n",
    "\n",
    "        self.dropout = nn.Dropout(0.2)\n",
    "        \n",
    "        #Predict the classes\n",
    "        self.fc1 = nn.Linear(len(Ks)*Co, C)\n",
    "        self.fc_aspect = nn.Linear(L, Co)\n",
    "\n",
    "\n",
    "    def forward(self, feature, aspect):\n",
    "        #Aspect embeddings >> TO CHECK: for me, they call aspect, the term related to the aspect category\n",
    "        aspect_v = self.aspect_embed(aspect)  # (N, L', D)\n",
    "        aa = [F.relu(conv(aspect_v.transpose(1, 2))) for conv in self.convs3]  # [(N,Co,L), ...]*len(Ks)\n",
    "        aa = [F.max_pool1d(a, a.size(2)).squeeze(2) for a in aa]\n",
    "        aspect_v = torch.cat(aa, 1) #Check what is it ? Not needed here\n",
    "\n",
    "        #Embedding of the context\n",
    "        feature = self.embed(feature)  # (N, L, D)\n",
    "        x = [F.tanh(conv(feature.transpose(1, 2))) for conv in self.convs1]  # [(N,Co,L), ...]*len(Ks)\n",
    "        y = [F.relu(conv(feature.transpose(1, 2)) + self.fc_aspect(aspect_v).unsqueeze(2)) for conv in self.convs2]\n",
    "        x = [i*j for i, j in zip(x, y)]\n",
    "        # pooling method\n",
    "        x = [F.max_pool1d(i, i.size(2)).squeeze(2) for i in x]  # [(N,Co), ...]*len(Ks)\n",
    "\n",
    "        x = torch.cat(x, 1) #Check what is it ?\n",
    "        x = self.dropout(x)  # (N,len(Ks)*Co)\n",
    "        logit = self.fc1(x)  # (N,C)\n",
    "        return logit"
   ]
  },
  {
   "cell_type": "markdown",
   "metadata": {},
   "source": [
    "## def train"
   ]
  },
  {
   "cell_type": "code",
   "execution_count": 20,
   "metadata": {},
   "outputs": [],
   "source": [
    "# Create the model: \n",
    "model = CNN_Gate_Aspect_Text()\n",
    "\n",
    "# Choose the hyperparameters for training: \n",
    "num_epochs = 3\n",
    "batch_size = 100\n",
    "\n",
    "# Training criterion. This one is a mean squared error (MSE) loss between the output\n",
    "# of the network and the target label\n",
    "criterion = nn.CrossEntropyLoss()\n",
    "\n",
    "# Use SGD optimizer with a learning rate of 0.01\n",
    "# It is initialized on our model\n",
    "optimizer = torch.optim.Adam(model.parameters(), lr=0.001)"
   ]
  },
  {
   "cell_type": "code",
   "execution_count": 21,
   "metadata": {},
   "outputs": [],
   "source": [
    "# Calculate the accuracy to evaluate the model\n",
    "def accuracy(dataset, model):\n",
    "    model.eval()\n",
    "    with torch.no_grad():\n",
    "        correct = 0\n",
    "        dataloader = DataLoader(dataset)\n",
    "        for X, labels in dataloader:\n",
    "            outputs = model(X[:, :l1], X[:, -l2:])\n",
    "            _, predicted = torch.max(outputs.data, 1) \n",
    "            correct += (predicted == labels).sum()\n",
    "\n",
    "    return 100*correct.item()/ len(dataset)"
   ]
  },
  {
   "cell_type": "code",
   "execution_count": 22,
   "metadata": {},
   "outputs": [],
   "source": [
    "# define a function for training\n",
    "def train(model, dataset_train, dataset_dev, num_epochs, batch_size, criterion, optimizer):\n",
    "    t = time()\n",
    "    train_loader = DataLoader(dataset_train, batch_size, shuffle=True)\n",
    "    model.train()\n",
    "    for epoch in range(num_epochs):\n",
    "        acc = 0.\n",
    "        for (X_batch, labels) in train_loader:\n",
    "            y_pre = model(X_batch[:, :l1], X_batch[:, -l2:])\n",
    "            loss = criterion(y_pre, labels.long())\n",
    "            optimizer.zero_grad()\n",
    "            loss.backward()\n",
    "            optimizer.step()\n",
    "            _, predicted = torch.max(y_pre.data, 1) \n",
    "            acc += (predicted == labels).sum().item()\n",
    "        \n",
    "        acc = 100 * acc / len(dataset_train)\n",
    "        dev_acc = accuracy(dataset_dev, model)\n",
    "        print('Epoch [{}/{}] | exec time: {:.2f} secs | acc: {:.2f}% | dev_acc: {:.2f}%'.format(epoch+1, num_epochs, time()-t, acc, dev_acc))"
   ]
  },
  {
   "cell_type": "code",
   "execution_count": 23,
   "metadata": {},
   "outputs": [
    {
     "name": "stdout",
     "output_type": "stream",
     "text": [
      "Epoch [1/3] | exec time: 36.55 secs | acc: 68.60% | dev_acc: 70.48%\n",
      "Epoch [2/3] | exec time: 94.99 secs | acc: 84.56% | dev_acc: 75.27%\n",
      "Epoch [3/3] | exec time: 137.83 secs | acc: 89.95% | dev_acc: 73.94%\n"
     ]
    }
   ],
   "source": [
    "train(model, dataset_train, dataset_dev, num_epochs, batch_size, criterion, optimizer)"
   ]
  },
  {
   "cell_type": "markdown",
   "metadata": {},
   "source": [
    "## Evaluation on dev set"
   ]
  },
  {
   "cell_type": "code",
   "execution_count": 24,
   "metadata": {},
   "outputs": [
    {
     "name": "stdout",
     "output_type": "stream",
     "text": [
      "Accuracy for dev set is : 73.94 %\n"
     ]
    }
   ],
   "source": [
    "# Dev set\n",
    "accuracy_dev = accuracy(dataset_dev, model)\n",
    "print('Accuracy for dev set is : {:.2f} %'.format(accuracy_dev))"
   ]
  },
  {
   "cell_type": "code",
   "execution_count": 25,
   "metadata": {},
   "outputs": [
    {
     "name": "stdout",
     "output_type": "stream",
     "text": [
      "Accuracy for train set is : 96.01 %\n"
     ]
    }
   ],
   "source": [
    "# train set\n",
    "accuracy_train = accuracy(dataset_train, model)\n",
    "print('Accuracy for train set is : {:.2f} %'.format(accuracy_train))"
   ]
  },
  {
   "cell_type": "code",
   "execution_count": null,
   "metadata": {},
   "outputs": [],
   "source": []
  }
 ],
 "metadata": {
  "kernelspec": {
   "display_name": "Python 3",
   "language": "python",
   "name": "python3"
  },
  "language_info": {
   "codemirror_mode": {
    "name": "ipython",
    "version": 3
   },
   "file_extension": ".py",
   "mimetype": "text/x-python",
   "name": "python",
   "nbconvert_exporter": "python",
   "pygments_lexer": "ipython3",
   "version": "3.7.3"
  }
 },
 "nbformat": 4,
 "nbformat_minor": 2
}
